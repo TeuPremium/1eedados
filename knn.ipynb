{
 "cells": [
  {
   "cell_type": "markdown",
   "metadata": {},
   "source": [
    "Aluno: Vinicius Santana da Silva Brandão\n",
    "\n",
    "Disciplina: Introdução a Ciência de Dados\n",
    "\n",
    "Primeira avaliação Análise de Dados.\n",
    "\n",
    "Dataset available extracted from: https://coinmarketcap.com/currencies/bitcoin/historical-data/ (feb 17, 2024)<br/>\n",
    "Execute as células em ordem para que funcionem corretamente.\n",
    "\n",
    "This dataset contains the Bitcoin historical data, wich will be studied throught this notebook and presented for a data science introduction class evaluation.\n",
    "\n",
    "For the comparison, the models will be only broadly evaluated, wich means that only the accuracy and/or squared errors will be itinally evaluated, and for the best performing model, a more thorough evaluation will be done."
   ]
  },
  {
   "cell_type": "code",
   "execution_count": 53,
   "metadata": {},
   "outputs": [],
   "source": [
    "import pandas as pd\n",
    "import numpy as np\n",
    "from sklearn.model_selection import train_test_split\n",
    "import matplotlib.pyplot as plt\n",
    "from sklearn.cluster import KMeans\n",
    "import matplotlib.pyplot as plt\n",
    "from sklearn.neighbors import KNeighborsClassifier\n",
    "from sklearn.metrics import accuracy_score, confusion_matrix\n",
    "from sklearn.svm import SVC\n",
    "from prettytable import PrettyTable"
   ]
  },
  {
   "cell_type": "markdown",
   "metadata": {},
   "source": [
    "\n",
    "In the first cell, a class will be defined to read and split the data in a controllable fashion "
   ]
  },
  {
   "cell_type": "code",
   "execution_count": 52,
   "metadata": {},
   "outputs": [],
   "source": [
    "# Essa classe de importação e separação dos dados foi retirada de projeto feito por mim em outra disciplina.\n",
    "\n",
    "class import_datasets:\n",
    "    def __init__(self):\n",
    "        self.train = 0\n",
    "        self.test = 0\n",
    "        self.validate = 0\n",
    "    \n",
    "    def load_train_data(self):\n",
    "        dataset = pd.read_csv('train.csv')\n",
    "        self.train_data = dataset\n",
    "        return dataset\n",
    "\n",
    "    def load_test_data(self):\n",
    "        dataset = pd.read_csv('test.csv')\n",
    "        # self.load_test_data = dataset\n",
    "        return dataset\n",
    "\n",
    "    def custom_train_val_test_split(self, X, y, test1_size, test_size, random_state):\n",
    "        np.random.seed(random_state)\n",
    "        shuffled_indices = np.random.permutation(len(X))\n",
    "        \n",
    "        val_set_size = int(len(X) * test1_size)\n",
    "        test_set_size = int(len(X) * test_size)\n",
    "        \n",
    "        val_indices = shuffled_indices[:val_set_size]\n",
    "        test_indices = shuffled_indices[val_set_size : val_set_size + test_set_size]\n",
    "        train_indices = shuffled_indices[val_set_size + test_set_size:]\n",
    "        \n",
    "        X_train, X_val, X_test = X.iloc[train_indices], X.iloc[val_indices], X.iloc[test_indices]\n",
    "        y_train, y_val, y_test = y.iloc[train_indices], y.iloc[val_indices], y.iloc[test_indices]\n",
    "\n",
    "        self.X_train = X_train\n",
    "        self.X_val = X_val\n",
    "        self.X_test = X_test\n",
    "        self.y_train = y_train\n",
    "        self.y_val = y_val\n",
    "        self.y_test = y_test\n",
    "        \n",
    "        X_train = pd.DataFrame(X_train)\n",
    "        \n",
    "        return  X_train.values.tolist(), X_val.values.tolist(), X_test.values.tolist(),\\\n",
    "                y_train.values.tolist(), y_val.values.tolist(), y_test.values.tolist()\n"
   ]
  },
  {
   "cell_type": "markdown",
   "metadata": {},
   "source": [
    "Aqui será feita a separação entre o valor de abertura do bitcoin no dia, que queremos avaliar, dos outros dados, e a remoção de dados sobre datas e horários que serão desconsiderados de acordo com a orientação para o projeto.\n",
    "\n",
    "In the second cell, the separation between the X and y will take place, y is the predicted value and X the data used to predict y. Here time and date related data will also be removed, acording to the demands given for this project."
   ]
  },
  {
   "cell_type": "code",
   "execution_count": 54,
   "metadata": {},
   "outputs": [
    {
     "name": "stdout",
     "output_type": "stream",
     "text": [
      "['high', 'low', 'close', 'volume', 'marketCap']\n",
      "           high           low         close        volume     marketCap\n",
      "0  52537.970228  51641.367219  52160.202829  2.818057e+10  1.023894e+12\n"
     ]
    }
   ],
   "source": [
    "test1_size = 0.1\n",
    "test_size = 0.1\n",
    "random_state = 133\n",
    "\n",
    "p = import_datasets()\n",
    "train_data = p.load_train_data()\n",
    "\n",
    "\n",
    "X = train_data.drop(['timeOpen', 'timeClose', 'timeHigh', 'timeLow', 'open', 'timestamp', 'name'], axis=1)\n",
    "y = train_data['open']\n",
    "\n",
    "print(X.columns.tolist())  # Print remaining labels in X\n",
    "print(X.head(1))  # Print only the first line of X\n",
    "\n",
    "X_train, X_val, X_test, y_train, y_val, y_test = p.custom_train_val_test_split(X, y, test1_size, test_size, random_state)\n"
   ]
  },
  {
   "cell_type": "code",
   "execution_count": 55,
   "metadata": {},
   "outputs": [
    {
     "name": "stderr",
     "output_type": "stream",
     "text": [
      "/usr/lib/python3/dist-packages/sklearn/cluster/_kmeans.py:870: FutureWarning: The default value of `n_init` will change from 10 to 'auto' in 1.4. Set the value of `n_init` explicitly to suppress the warning\n",
      "  warnings.warn(\n",
      "/usr/lib/python3/dist-packages/sklearn/cluster/_kmeans.py:870: FutureWarning: The default value of `n_init` will change from 10 to 'auto' in 1.4. Set the value of `n_init` explicitly to suppress the warning\n",
      "  warnings.warn(\n",
      "/usr/lib/python3/dist-packages/sklearn/cluster/_kmeans.py:870: FutureWarning: The default value of `n_init` will change from 10 to 'auto' in 1.4. Set the value of `n_init` explicitly to suppress the warning\n",
      "  warnings.warn(\n",
      "/usr/lib/python3/dist-packages/sklearn/cluster/_kmeans.py:870: FutureWarning: The default value of `n_init` will change from 10 to 'auto' in 1.4. Set the value of `n_init` explicitly to suppress the warning\n",
      "  warnings.warn(\n",
      "/usr/lib/python3/dist-packages/sklearn/cluster/_kmeans.py:870: FutureWarning: The default value of `n_init` will change from 10 to 'auto' in 1.4. Set the value of `n_init` explicitly to suppress the warning\n",
      "  warnings.warn(\n",
      "/usr/lib/python3/dist-packages/sklearn/cluster/_kmeans.py:870: FutureWarning: The default value of `n_init` will change from 10 to 'auto' in 1.4. Set the value of `n_init` explicitly to suppress the warning\n",
      "  warnings.warn(\n",
      "/usr/lib/python3/dist-packages/sklearn/cluster/_kmeans.py:870: FutureWarning: The default value of `n_init` will change from 10 to 'auto' in 1.4. Set the value of `n_init` explicitly to suppress the warning\n",
      "  warnings.warn(\n",
      "/usr/lib/python3/dist-packages/sklearn/cluster/_kmeans.py:870: FutureWarning: The default value of `n_init` will change from 10 to 'auto' in 1.4. Set the value of `n_init` explicitly to suppress the warning\n",
      "  warnings.warn(\n",
      "/usr/lib/python3/dist-packages/sklearn/cluster/_kmeans.py:870: FutureWarning: The default value of `n_init` will change from 10 to 'auto' in 1.4. Set the value of `n_init` explicitly to suppress the warning\n",
      "  warnings.warn(\n",
      "/usr/lib/python3/dist-packages/sklearn/cluster/_kmeans.py:870: FutureWarning: The default value of `n_init` will change from 10 to 'auto' in 1.4. Set the value of `n_init` explicitly to suppress the warning\n",
      "  warnings.warn(\n",
      "/usr/lib/python3/dist-packages/sklearn/cluster/_kmeans.py:870: FutureWarning: The default value of `n_init` will change from 10 to 'auto' in 1.4. Set the value of `n_init` explicitly to suppress the warning\n",
      "  warnings.warn(\n",
      "/usr/lib/python3/dist-packages/sklearn/cluster/_kmeans.py:870: FutureWarning: The default value of `n_init` will change from 10 to 'auto' in 1.4. Set the value of `n_init` explicitly to suppress the warning\n",
      "  warnings.warn(\n",
      "/usr/lib/python3/dist-packages/sklearn/cluster/_kmeans.py:870: FutureWarning: The default value of `n_init` will change from 10 to 'auto' in 1.4. Set the value of `n_init` explicitly to suppress the warning\n",
      "  warnings.warn(\n",
      "/usr/lib/python3/dist-packages/sklearn/cluster/_kmeans.py:870: FutureWarning: The default value of `n_init` will change from 10 to 'auto' in 1.4. Set the value of `n_init` explicitly to suppress the warning\n",
      "  warnings.warn(\n",
      "/usr/lib/python3/dist-packages/sklearn/cluster/_kmeans.py:870: FutureWarning: The default value of `n_init` will change from 10 to 'auto' in 1.4. Set the value of `n_init` explicitly to suppress the warning\n",
      "  warnings.warn(\n",
      "/usr/lib/python3/dist-packages/sklearn/cluster/_kmeans.py:870: FutureWarning: The default value of `n_init` will change from 10 to 'auto' in 1.4. Set the value of `n_init` explicitly to suppress the warning\n",
      "  warnings.warn(\n",
      "/usr/lib/python3/dist-packages/sklearn/cluster/_kmeans.py:870: FutureWarning: The default value of `n_init` will change from 10 to 'auto' in 1.4. Set the value of `n_init` explicitly to suppress the warning\n",
      "  warnings.warn(\n",
      "/usr/lib/python3/dist-packages/sklearn/cluster/_kmeans.py:870: FutureWarning: The default value of `n_init` will change from 10 to 'auto' in 1.4. Set the value of `n_init` explicitly to suppress the warning\n",
      "  warnings.warn(\n",
      "/usr/lib/python3/dist-packages/sklearn/cluster/_kmeans.py:870: FutureWarning: The default value of `n_init` will change from 10 to 'auto' in 1.4. Set the value of `n_init` explicitly to suppress the warning\n",
      "  warnings.warn(\n",
      "/usr/lib/python3/dist-packages/sklearn/cluster/_kmeans.py:870: FutureWarning: The default value of `n_init` will change from 10 to 'auto' in 1.4. Set the value of `n_init` explicitly to suppress the warning\n",
      "  warnings.warn(\n",
      "/usr/lib/python3/dist-packages/sklearn/cluster/_kmeans.py:870: FutureWarning: The default value of `n_init` will change from 10 to 'auto' in 1.4. Set the value of `n_init` explicitly to suppress the warning\n",
      "  warnings.warn(\n",
      "/usr/lib/python3/dist-packages/sklearn/cluster/_kmeans.py:870: FutureWarning: The default value of `n_init` will change from 10 to 'auto' in 1.4. Set the value of `n_init` explicitly to suppress the warning\n",
      "  warnings.warn(\n",
      "/usr/lib/python3/dist-packages/sklearn/cluster/_kmeans.py:870: FutureWarning: The default value of `n_init` will change from 10 to 'auto' in 1.4. Set the value of `n_init` explicitly to suppress the warning\n",
      "  warnings.warn(\n",
      "/usr/lib/python3/dist-packages/sklearn/cluster/_kmeans.py:870: FutureWarning: The default value of `n_init` will change from 10 to 'auto' in 1.4. Set the value of `n_init` explicitly to suppress the warning\n",
      "  warnings.warn(\n",
      "/usr/lib/python3/dist-packages/sklearn/cluster/_kmeans.py:870: FutureWarning: The default value of `n_init` will change from 10 to 'auto' in 1.4. Set the value of `n_init` explicitly to suppress the warning\n",
      "  warnings.warn(\n",
      "/usr/lib/python3/dist-packages/sklearn/cluster/_kmeans.py:870: FutureWarning: The default value of `n_init` will change from 10 to 'auto' in 1.4. Set the value of `n_init` explicitly to suppress the warning\n",
      "  warnings.warn(\n",
      "/usr/lib/python3/dist-packages/sklearn/cluster/_kmeans.py:870: FutureWarning: The default value of `n_init` will change from 10 to 'auto' in 1.4. Set the value of `n_init` explicitly to suppress the warning\n",
      "  warnings.warn(\n",
      "/usr/lib/python3/dist-packages/sklearn/cluster/_kmeans.py:870: FutureWarning: The default value of `n_init` will change from 10 to 'auto' in 1.4. Set the value of `n_init` explicitly to suppress the warning\n",
      "  warnings.warn(\n",
      "/usr/lib/python3/dist-packages/sklearn/cluster/_kmeans.py:870: FutureWarning: The default value of `n_init` will change from 10 to 'auto' in 1.4. Set the value of `n_init` explicitly to suppress the warning\n",
      "  warnings.warn(\n"
     ]
    },
    {
     "data": {
      "image/png": "[encoded data removed]",
      "text/plain": [
       "<Figure size 800x600 with 1 Axes>"
      ]
     },
     "metadata": {},
     "output_type": "display_data"
    },
    {
     "name": "stdout",
     "output_type": "stream",
     "text": [
      "+------------------------+--------------------------+\n",
      "| Number of Clusters (k) | Sum of Squared Distances |\n",
      "+------------------------+--------------------------+\n",
      "|           1            |       1.92700e+23        |\n",
      "|           2            |       5.47527e+22        |\n",
      "|           3            |       3.29069e+22        |\n",
      "|           4            |       1.84788e+22        |\n",
      "|           5            |       1.23066e+22        |\n",
      "|           6            |       9.44455e+21        |\n",
      "|           7            |       6.85305e+21        |\n",
      "|           8            |       5.27788e+21        |\n",
      "|           9            |       4.14430e+21        |\n",
      "|           10           |       3.13653e+21        |\n",
      "|           11           |       2.74659e+21        |\n",
      "|           12           |       2.42380e+21        |\n",
      "|           13           |       1.98963e+21        |\n",
      "|           14           |       1.78504e+21        |\n",
      "|           15           |       1.64994e+21        |\n",
      "|           16           |       1.42421e+21        |\n",
      "|           17           |       1.26976e+21        |\n",
      "|           18           |       1.14428e+21        |\n",
      "|           19           |       1.05299e+21        |\n",
      "|           20           |       9.41847e+20        |\n",
      "|           21           |       8.19126e+20        |\n",
      "|           22           |       7.53904e+20        |\n",
      "|           23           |       6.59413e+20        |\n",
      "|           24           |       6.30014e+20        |\n",
      "|           25           |       5.21200e+20        |\n",
      "|           26           |       5.00875e+20        |\n",
      "|           27           |       4.19796e+20        |\n",
      "|           28           |       3.86377e+20        |\n",
      "|           29           |       3.79167e+20        |\n",
      "+------------------------+--------------------------+\n"
     ]
    }
   ],
   "source": [
    "clusters_range = range(1, 50)\n",
    "\n",
    "inertia_values = []\n",
    "for n_clusters in clusters_range:\n",
    "    kmeans = KMeans(n_clusters=n_clusters, random_state=42)\n",
    "    kmeans.fit(X)  \n",
    "    inertia_values.append(kmeans.inertia_) #the inertia is the sum of squared distances\n",
    "\n",
    "plt.figure(figsize=(8, 6))\n",
    "plt.plot(clusters_range, inertia_values, marker='o')\n",
    "plt.title('Elbow Method for Optimal k')\n",
    "plt.xlabel('Number of Clusters (k)')\n",
    "plt.ylabel('Sum of squared distances')\n",
    "plt.grid(True)\n",
    "plt.show()\n",
    "\n",
    "\n",
    "table = PrettyTable()\n",
    "table.field_names = ['Number of Clusters (k)', 'Sum of Squared Distances']\n",
    "\n",
    "# Populate the table with data\n",
    "for n_clusters, inertia in zip(clusters_range, inertia_values):\n",
    "    table.add_row([n_clusters, '{:.5e}'.format(inertia)]) \n",
    "\n",
    "# Print the table\n",
    "print(table)\n"
   ]
  },
  {
   "cell_type": "markdown",
   "metadata": {},
   "source": [
    "Since after k = 5, the decrease slows down considerably, the chosen k will be 7, considering the elbow method."
   ]
  },
  {
   "cell_type": "code",
   "execution_count": 50,
   "metadata": {},
   "outputs": [
    {
     "name": "stdout",
     "output_type": "stream",
     "text": [
      "    name          high           low         close        volume     marketCap\n",
      "23  2781  40483.783878  39508.798464  40077.073270  2.235953e+10  7.858099e+11\n",
      "11  2781  43494.248632  42264.817297  42658.666048  1.871549e+10  8.369361e+11\n",
      "0   2781  52537.970228  51641.367219  52160.202829  2.818057e+10  1.023894e+12\n",
      "5   2781  48535.935910  47617.405365  48293.916751  1.931587e+10  9.477742e+11\n",
      "10  2781  43344.148218  42529.021423  43084.671864  1.679848e+10  8.453385e+11\n",
      "30  2781  43189.890511  42189.310528  42742.652837  2.085123e+10  8.378049e+11\n",
      "8   2781  45575.841721  44332.125602  45301.566629  2.615452e+10  8.889215e+11\n",
      "12  2781  43097.644016  42374.833902  42583.582920  1.480223e+10  8.354218e+11\n",
      "44  2781  45503.241795  40813.534868  42848.175641  4.634232e+10  8.393459e+11\n",
      "57  2781  44240.669128  43330.052646  43869.150857  2.245277e+10  8.588198e+11\n",
      "52  2781  43603.175442  41676.489968  42520.401511  3.002685e+10  8.326201e+11\n",
      "21  2781  42209.385175  39825.692231  41816.872844  2.559812e+10  8.200114e+11\n",
      "1   2781  52820.066935  51371.627484  51938.556316  3.856436e+10  1.019500e+12\n",
      "6   2781  48146.170431  46905.321686  47771.277367  1.639868e+10  9.374767e+11\n",
      "51  2781  43683.159808  42167.583486  43442.854558  2.526094e+10  8.507208e+11\n",
      "29  2781  42876.346603  40631.170495  41262.058364  2.521836e+10  8.088191e+11\n",
      "58  2781  44275.587512  42223.817861  43652.248668  2.786891e+10  8.545323e+11\n",
      "37  2781  47647.220985  44483.150861  46627.779112  5.011461e+10  9.136693e+11\n",
      "48  2781  42584.123640  41556.225992  42156.901150  1.601393e+10  8.256468e+11\n",
      "7   2781  48152.494628  45260.824572  47147.200313  3.931677e+10  9.251845e+11\n",
      "35  2781  46498.134821  41903.770751  42853.166658  4.333270e+10  8.397964e+11\n",
      "41  2781  44227.631307  43475.156431  43989.194093  1.609250e+10  8.618220e+11\n",
      "20  2781  42195.631557  41431.279894  42120.056352  1.142294e+10  8.260011e+11\n",
      "59  2781  43354.296597  41826.335152  42270.526140  2.317100e+10  8.274471e+11\n",
      "3   2781  50358.392086  48406.495564  49742.440990  3.559305e+10  9.762999e+11\n",
      "4   2781  50280.475274  47745.760261  49958.224219  3.451199e+10  9.804910e+11\n",
      "16  2781  43717.404656  42298.947156  42582.606390  2.467363e+10  8.352315e+11\n",
      "60  2781  42720.297127  40530.258519  42623.538325  2.522464e+10  8.343121e+11\n",
      "36  2781  48969.371400  45678.645398  46368.585382  4.583373e+10  9.086400e+11\n",
      "14  2781  43422.488067  42584.337230  43185.859432  1.860384e+10  8.471540e+11\n",
      "54  2781  43945.521562  42786.917856  43016.117621  1.883055e+10  8.422539e+11\n",
      "25  2781  41651.206793  39450.118993  39507.368824  3.133871e+10  7.745654e+11\n",
      "46  2781  44175.436053  42214.976755  44167.330214  1.842698e+10  8.651060e+11\n",
      "50  2781  43804.781418  42318.548862  42627.853531  2.299209e+10  8.347916e+11\n",
      "9   2781  44341.948333  42775.958471  44318.224451  2.112659e+10  8.695853e+11\n",
      "47  2781  42860.937392  41998.255346  42265.185655  1.639750e+10  8.278112e+11\n",
      "49  2781  43124.325860  41424.060641  42099.402809  2.600002e+10  8.244842e+11\n",
      "32  2781  43319.721183  41705.418328  42511.967720  2.232022e+10  8.332168e+11\n",
      "33  2781  43065.598852  41724.613725  41796.269606  1.752143e+10  8.191599e+11\n",
      "22  2781  40254.482323  39545.664458  39933.807752  1.849178e+10  7.830468e+11\n",
      "42  2781  44353.285859  42784.718266  44162.691630  3.233603e+10  8.651827e+11\n",
      "19  2781  42797.177359  41696.908343  42035.594372  1.685897e+10  8.243879e+11\n",
      "17  2781  43838.946844  42711.371764  42952.608210  2.384281e+10  8.424518e+11\n",
      "38  2781  47893.701008  45244.715148  46139.730375  3.982129e+10  9.040673e+11\n",
      "34  2781  43234.661777  42464.143204  42842.382191  2.060186e+10  8.396274e+11\n",
      "28  2781  42134.158975  40297.457858  41618.407365  2.575241e+10  8.158396e+11\n",
      "2   2781  52021.370779  49296.830923  51826.695996  3.910561e+10  1.017254e+12\n",
      "45  2781  45899.706355  44176.950443  44957.970054  3.933527e+10  8.806316e+11\n"
     ]
    },
    {
     "ename": "ValueError",
     "evalue": "Unknown label type: 'continuous'",
     "output_type": "error",
     "traceback": [
      "\u001b[0;31m---------------------------------------------------------------------------\u001b[0m",
      "\u001b[0;31mValueError\u001b[0m                                Traceback (most recent call last)",
      "Cell \u001b[0;32mIn[50], line 10\u001b[0m\n\u001b[1;32m      7\u001b[0m knn \u001b[38;5;241m=\u001b[39m KNeighborsClassifier(n_neighbors\u001b[38;5;241m=\u001b[39m\u001b[38;5;241m7\u001b[39m) \n\u001b[1;32m      9\u001b[0m \u001b[38;5;66;03m# Train the classifier\u001b[39;00m\n\u001b[0;32m---> 10\u001b[0m \u001b[43mknn\u001b[49m\u001b[38;5;241;43m.\u001b[39;49m\u001b[43mfit\u001b[49m\u001b[43m(\u001b[49m\u001b[43mX\u001b[49m\u001b[43m,\u001b[49m\u001b[43my\u001b[49m\u001b[43m)\u001b[49m\n\u001b[1;32m     12\u001b[0m \u001b[38;5;66;03m# Predict on the test set\u001b[39;00m\n\u001b[1;32m     13\u001b[0m y_pred \u001b[38;5;241m=\u001b[39m knn\u001b[38;5;241m.\u001b[39mpredict(X_test)\n",
      "File \u001b[0;32m/usr/lib/python3/dist-packages/sklearn/neighbors/_classification.py:215\u001b[0m, in \u001b[0;36mKNeighborsClassifier.fit\u001b[0;34m(self, X, y)\u001b[0m\n\u001b[1;32m    196\u001b[0m \u001b[38;5;250m\u001b[39m\u001b[38;5;124;03m\"\"\"Fit the k-nearest neighbors classifier from the training dataset.\u001b[39;00m\n\u001b[1;32m    197\u001b[0m \n\u001b[1;32m    198\u001b[0m \u001b[38;5;124;03mParameters\u001b[39;00m\n\u001b[0;32m   (...)\u001b[0m\n\u001b[1;32m    211\u001b[0m \u001b[38;5;124;03m    The fitted k-nearest neighbors classifier.\u001b[39;00m\n\u001b[1;32m    212\u001b[0m \u001b[38;5;124;03m\"\"\"\u001b[39;00m\n\u001b[1;32m    213\u001b[0m \u001b[38;5;28mself\u001b[39m\u001b[38;5;241m.\u001b[39m_validate_params()\n\u001b[0;32m--> 215\u001b[0m \u001b[38;5;28;01mreturn\u001b[39;00m \u001b[38;5;28;43mself\u001b[39;49m\u001b[38;5;241;43m.\u001b[39;49m\u001b[43m_fit\u001b[49m\u001b[43m(\u001b[49m\u001b[43mX\u001b[49m\u001b[43m,\u001b[49m\u001b[43m \u001b[49m\u001b[43my\u001b[49m\u001b[43m)\u001b[49m\n",
      "File \u001b[0;32m/usr/lib/python3/dist-packages/sklearn/neighbors/_base.py:476\u001b[0m, in \u001b[0;36mNeighborsBase._fit\u001b[0;34m(self, X, y)\u001b[0m\n\u001b[1;32m    473\u001b[0m \u001b[38;5;28;01melse\u001b[39;00m:\n\u001b[1;32m    474\u001b[0m     \u001b[38;5;28mself\u001b[39m\u001b[38;5;241m.\u001b[39moutputs_2d_ \u001b[38;5;241m=\u001b[39m \u001b[38;5;28;01mTrue\u001b[39;00m\n\u001b[0;32m--> 476\u001b[0m \u001b[43mcheck_classification_targets\u001b[49m\u001b[43m(\u001b[49m\u001b[43my\u001b[49m\u001b[43m)\u001b[49m\n\u001b[1;32m    477\u001b[0m \u001b[38;5;28mself\u001b[39m\u001b[38;5;241m.\u001b[39mclasses_ \u001b[38;5;241m=\u001b[39m []\n\u001b[1;32m    478\u001b[0m \u001b[38;5;28mself\u001b[39m\u001b[38;5;241m.\u001b[39m_y \u001b[38;5;241m=\u001b[39m np\u001b[38;5;241m.\u001b[39mempty(y\u001b[38;5;241m.\u001b[39mshape, dtype\u001b[38;5;241m=\u001b[39m\u001b[38;5;28mint\u001b[39m)\n",
      "File \u001b[0;32m/usr/lib/python3/dist-packages/sklearn/utils/multiclass.py:207\u001b[0m, in \u001b[0;36mcheck_classification_targets\u001b[0;34m(y)\u001b[0m\n\u001b[1;32m    199\u001b[0m y_type \u001b[38;5;241m=\u001b[39m type_of_target(y, input_name\u001b[38;5;241m=\u001b[39m\u001b[38;5;124m\"\u001b[39m\u001b[38;5;124my\u001b[39m\u001b[38;5;124m\"\u001b[39m)\n\u001b[1;32m    200\u001b[0m \u001b[38;5;28;01mif\u001b[39;00m y_type \u001b[38;5;129;01mnot\u001b[39;00m \u001b[38;5;129;01min\u001b[39;00m [\n\u001b[1;32m    201\u001b[0m     \u001b[38;5;124m\"\u001b[39m\u001b[38;5;124mbinary\u001b[39m\u001b[38;5;124m\"\u001b[39m,\n\u001b[1;32m    202\u001b[0m     \u001b[38;5;124m\"\u001b[39m\u001b[38;5;124mmulticlass\u001b[39m\u001b[38;5;124m\"\u001b[39m,\n\u001b[0;32m   (...)\u001b[0m\n\u001b[1;32m    205\u001b[0m     \u001b[38;5;124m\"\u001b[39m\u001b[38;5;124mmultilabel-sequences\u001b[39m\u001b[38;5;124m\"\u001b[39m,\n\u001b[1;32m    206\u001b[0m ]:\n\u001b[0;32m--> 207\u001b[0m     \u001b[38;5;28;01mraise\u001b[39;00m \u001b[38;5;167;01mValueError\u001b[39;00m(\u001b[38;5;124m\"\u001b[39m\u001b[38;5;124mUnknown label type: \u001b[39m\u001b[38;5;132;01m%r\u001b[39;00m\u001b[38;5;124m\"\u001b[39m \u001b[38;5;241m%\u001b[39m y_type)\n",
      "\u001b[0;31mValueError\u001b[0m: Unknown label type: 'continuous'"
     ]
    }
   ],
   "source": [
    "\n",
    "# Split the dataset into training and testing sets\n",
    "X_train, X_test, y_train, y_test = train_test_split(X, y, test_size=0.2, random_state=123)\n",
    "\n",
    "\n",
    "# Initialize KNN classifier\n",
    "knn = KNeighborsClassifier(n_neighbors=7) \n",
    "\n",
    "# Train the classifier\n",
    "knn.fit(X,y)\n",
    "\n",
    "# Predict on the test set\n",
    "y_pred = knn.predict(X_test)\n",
    "\n",
    "# Evaluate the performance\n",
    "accuracy = accuracy_score(y_test, y_pred)\n",
    "conf_matrix = confusion_matrix(y_test, y_pred)\n",
    "# RMS (Root Mean Squared)\n",
    "rms = np.sqrt(np.mean((y_test - y_pred)**2))\n",
    "\n",
    "\n",
    "print(f\"Accuracy: {accuracy}\")\n",
    "print(\"Confusion Matrix:\")\n",
    "print(conf_matrix)\n",
    "print(f\"RMS: {rms}\")\n",
    "\n",
    "\n"
   ]
  },
  {
   "cell_type": "markdown",
   "metadata": {},
   "source": [
    "Now applying the svm"
   ]
  },
  {
   "cell_type": "code",
   "execution_count": 49,
   "metadata": {},
   "outputs": [
    {
     "ename": "ValueError",
     "evalue": "Unknown label type: 'continuous'",
     "output_type": "error",
     "traceback": [
      "\u001b[0;31m---------------------------------------------------------------------------\u001b[0m",
      "\u001b[0;31mValueError\u001b[0m                                Traceback (most recent call last)",
      "Cell \u001b[0;32mIn[49], line 5\u001b[0m\n\u001b[1;32m      2\u001b[0m svm_classifier \u001b[38;5;241m=\u001b[39m SVC(kernel\u001b[38;5;241m=\u001b[39m\u001b[38;5;124m'\u001b[39m\u001b[38;5;124mlinear\u001b[39m\u001b[38;5;124m'\u001b[39m, C\u001b[38;5;241m=\u001b[39m\u001b[38;5;241m1.0\u001b[39m)  \n\u001b[1;32m      4\u001b[0m \u001b[38;5;66;03m# Treinar o classificador SVM\u001b[39;00m\n\u001b[0;32m----> 5\u001b[0m \u001b[43msvm_classifier\u001b[49m\u001b[38;5;241;43m.\u001b[39;49m\u001b[43mfit\u001b[49m\u001b[43m(\u001b[49m\u001b[43mX\u001b[49m\u001b[43m,\u001b[49m\u001b[43m \u001b[49m\u001b[43my\u001b[49m\u001b[43m)\u001b[49m\n\u001b[1;32m      7\u001b[0m \u001b[38;5;66;03m# Prever no conjunto de teste\u001b[39;00m\n\u001b[1;32m      8\u001b[0m y_pred_svm \u001b[38;5;241m=\u001b[39m svm_classifier\u001b[38;5;241m.\u001b[39mpredict(X_test)\n",
      "File \u001b[0;32m/usr/lib/python3/dist-packages/sklearn/svm/_base.py:201\u001b[0m, in \u001b[0;36mBaseLibSVM.fit\u001b[0;34m(self, X, y, sample_weight)\u001b[0m\n\u001b[1;32m    191\u001b[0m \u001b[38;5;28;01melse\u001b[39;00m:\n\u001b[1;32m    192\u001b[0m     X, y \u001b[38;5;241m=\u001b[39m \u001b[38;5;28mself\u001b[39m\u001b[38;5;241m.\u001b[39m_validate_data(\n\u001b[1;32m    193\u001b[0m         X,\n\u001b[1;32m    194\u001b[0m         y,\n\u001b[0;32m   (...)\u001b[0m\n\u001b[1;32m    198\u001b[0m         accept_large_sparse\u001b[38;5;241m=\u001b[39m\u001b[38;5;28;01mFalse\u001b[39;00m,\n\u001b[1;32m    199\u001b[0m     )\n\u001b[0;32m--> 201\u001b[0m y \u001b[38;5;241m=\u001b[39m \u001b[38;5;28;43mself\u001b[39;49m\u001b[38;5;241;43m.\u001b[39;49m\u001b[43m_validate_targets\u001b[49m\u001b[43m(\u001b[49m\u001b[43my\u001b[49m\u001b[43m)\u001b[49m\n\u001b[1;32m    203\u001b[0m sample_weight \u001b[38;5;241m=\u001b[39m np\u001b[38;5;241m.\u001b[39masarray(\n\u001b[1;32m    204\u001b[0m     [] \u001b[38;5;28;01mif\u001b[39;00m sample_weight \u001b[38;5;129;01mis\u001b[39;00m \u001b[38;5;28;01mNone\u001b[39;00m \u001b[38;5;28;01melse\u001b[39;00m sample_weight, dtype\u001b[38;5;241m=\u001b[39mnp\u001b[38;5;241m.\u001b[39mfloat64\n\u001b[1;32m    205\u001b[0m )\n\u001b[1;32m    206\u001b[0m solver_type \u001b[38;5;241m=\u001b[39m LIBSVM_IMPL\u001b[38;5;241m.\u001b[39mindex(\u001b[38;5;28mself\u001b[39m\u001b[38;5;241m.\u001b[39m_impl)\n",
      "File \u001b[0;32m/usr/lib/python3/dist-packages/sklearn/svm/_base.py:745\u001b[0m, in \u001b[0;36mBaseSVC._validate_targets\u001b[0;34m(self, y)\u001b[0m\n\u001b[1;32m    743\u001b[0m \u001b[38;5;28;01mdef\u001b[39;00m \u001b[38;5;21m_validate_targets\u001b[39m(\u001b[38;5;28mself\u001b[39m, y):\n\u001b[1;32m    744\u001b[0m     y_ \u001b[38;5;241m=\u001b[39m column_or_1d(y, warn\u001b[38;5;241m=\u001b[39m\u001b[38;5;28;01mTrue\u001b[39;00m)\n\u001b[0;32m--> 745\u001b[0m     \u001b[43mcheck_classification_targets\u001b[49m\u001b[43m(\u001b[49m\u001b[43my\u001b[49m\u001b[43m)\u001b[49m\n\u001b[1;32m    746\u001b[0m     \u001b[38;5;28mcls\u001b[39m, y \u001b[38;5;241m=\u001b[39m np\u001b[38;5;241m.\u001b[39munique(y_, return_inverse\u001b[38;5;241m=\u001b[39m\u001b[38;5;28;01mTrue\u001b[39;00m)\n\u001b[1;32m    747\u001b[0m     \u001b[38;5;28mself\u001b[39m\u001b[38;5;241m.\u001b[39mclass_weight_ \u001b[38;5;241m=\u001b[39m compute_class_weight(\u001b[38;5;28mself\u001b[39m\u001b[38;5;241m.\u001b[39mclass_weight, classes\u001b[38;5;241m=\u001b[39m\u001b[38;5;28mcls\u001b[39m, y\u001b[38;5;241m=\u001b[39my_)\n",
      "File \u001b[0;32m/usr/lib/python3/dist-packages/sklearn/utils/multiclass.py:207\u001b[0m, in \u001b[0;36mcheck_classification_targets\u001b[0;34m(y)\u001b[0m\n\u001b[1;32m    199\u001b[0m y_type \u001b[38;5;241m=\u001b[39m type_of_target(y, input_name\u001b[38;5;241m=\u001b[39m\u001b[38;5;124m\"\u001b[39m\u001b[38;5;124my\u001b[39m\u001b[38;5;124m\"\u001b[39m)\n\u001b[1;32m    200\u001b[0m \u001b[38;5;28;01mif\u001b[39;00m y_type \u001b[38;5;129;01mnot\u001b[39;00m \u001b[38;5;129;01min\u001b[39;00m [\n\u001b[1;32m    201\u001b[0m     \u001b[38;5;124m\"\u001b[39m\u001b[38;5;124mbinary\u001b[39m\u001b[38;5;124m\"\u001b[39m,\n\u001b[1;32m    202\u001b[0m     \u001b[38;5;124m\"\u001b[39m\u001b[38;5;124mmulticlass\u001b[39m\u001b[38;5;124m\"\u001b[39m,\n\u001b[0;32m   (...)\u001b[0m\n\u001b[1;32m    205\u001b[0m     \u001b[38;5;124m\"\u001b[39m\u001b[38;5;124mmultilabel-sequences\u001b[39m\u001b[38;5;124m\"\u001b[39m,\n\u001b[1;32m    206\u001b[0m ]:\n\u001b[0;32m--> 207\u001b[0m     \u001b[38;5;28;01mraise\u001b[39;00m \u001b[38;5;167;01mValueError\u001b[39;00m(\u001b[38;5;124m\"\u001b[39m\u001b[38;5;124mUnknown label type: \u001b[39m\u001b[38;5;132;01m%r\u001b[39;00m\u001b[38;5;124m\"\u001b[39m \u001b[38;5;241m%\u001b[39m y_type)\n",
      "\u001b[0;31mValueError\u001b[0m: Unknown label type: 'continuous'"
     ]
    }
   ],
   "source": [
    "# Initialize SVM classificator with linear kernel\n",
    "svm_classifier = SVC(kernel='linear', C=1.0)  \n",
    "\n",
    "# Treinar o classificador SVM\n",
    "svm_classifier.fit(X_train, y_train)\n",
    "\n",
    "# Prever no conjunto de teste\n",
    "y_pred_svm = svm_classifier.predict(X_test)\n",
    "\n",
    "# Avaliar o desempenho\n",
    "accuracy_svm = accuracy_score(y_test, y_pred_svm)\n",
    "conf_matrix_svm = confusion_matrix(y_test, y_pred_svm)\n",
    "svm_rms = np.sqrt(np.mean((y_test - y_pred_svm)**2))\n",
    "\n",
    "\n",
    "print(f\"Accuracy (SVM): {accuracy_svm}\")\n",
    "print(\"Confusion Matrix (SVM):\")\n",
    "print(conf_matrix_svm)\n",
    "print(f\"SVM RMS: {svm_rms}\")"
   ]
  },
  {
   "cell_type": "markdown",
   "metadata": {},
   "source": [
    "Results:<br/>\n",
    "    \n",
    "    knn:\n",
    "    Accuracy: 0.9325\n",
    "    Confusion Matrix:\n",
    "     85  2   0   0\n",
    "     5   94  1   0\n",
    "     0   6   103 7\n",
    "     0   0   6   91\n",
    "    RMS: 0.2598076211353316\n",
    "\n",
    "    svm: \n",
    "    Accuracy (SVM): 0.95\n",
    "    Confusion Matrix (SVM):\n",
    "       82   5   0    0\n",
    "       1    96  3    0\n",
    "       0    2   108  6\n",
    "       0    0   3    94\n",
    "    SVM RMS: 0.22360679774997896\n",
    "\n",
    "The chosen metrics for results were accuracy, confusion matrix and RMS error.<br/>\n",
    "The three of them point to the svm being potentially better at solving this particular problem, but for this sample size (2000 samples) and  400 being analyzed, the difference is smaller than 2%, so this can be considered negligible and is subject to change in a case by case fluctuation, depending on the dataset split. Both got a rms error between 0.2 and 0.3, wich is high considering the magnitude of the data being classified (Close to the same order of magnitude). <br/>  Both methods were suficient to understand and predict with satisfactory accuracy and resulting in a useful and representative decision boundrie to the proposed problem."
   ]
  }
 ],
 "metadata": {
  "kernelspec": {
   "display_name": "Python 3",
   "language": "python",
   "name": "python3"
  },
  "language_info": {
   "codemirror_mode": {
    "name": "ipython",
    "version": 3
   },
   "file_extension": ".py",
   "mimetype": "text/x-python",
   "name": "python",
   "nbconvert_exporter": "python",
   "pygments_lexer": "ipython3",
   "version": "3.11.6"
  }
 },
 "nbformat": 4,
 "nbformat_minor": 2
}
